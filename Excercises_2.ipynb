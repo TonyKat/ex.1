{
 "cells": [
  {
   "cell_type": "code",
   "execution_count": 1,
   "metadata": {
    "collapsed": true
   },
   "outputs": [],
   "source": [
    "import numpy as np\n",
    "import scipy as sp\n",
    "import matplotlib.pyplot as plt\n",
    "import seaborn as sns\n",
    "\n",
    "%matplotlib inline"
   ]
  },
  {
   "cell_type": "markdown",
   "metadata": {},
   "source": [
    "# 1. Работа с массивами NumPy"
   ]
  },
  {
   "cell_type": "markdown",
   "metadata": {},
   "source": [
    "**N. Все упражнения ниже нужно делать без использования циклов Python**\n",
    "\n",
    "**1.** Cоздать вектор\n",
    "\n",
    "$$(2, \\frac{2^2}{2}, \\ldots, \\frac{2^{20}}{20})$$\n",
    "\n",
    "Можно использовать функции [np.arange()](http://docs.scipy.org/doc/numpy/reference/generated/numpy.arange.html), [np.ones()](http://docs.scipy.org/doc/numpy/reference/generated/numpy.ones.html)"
   ]
  },
  {
   "cell_type": "code",
   "execution_count": 4,
   "metadata": {
    "collapsed": false
   },
   "outputs": [
    {
     "name": "stdout",
     "output_type": "stream",
     "text": [
      "[  2.00000000e+00   2.00000000e+00   2.66666667e+00   4.00000000e+00\n",
      "   6.40000000e+00   1.06666667e+01   1.82857143e+01   3.20000000e+01\n",
      "   5.68888889e+01   1.02400000e+02   1.86181818e+02   3.41333333e+02\n",
      "   6.30153846e+02   1.17028571e+03   2.18453333e+03   4.09600000e+03\n",
      "   7.71011765e+03   1.45635556e+04   2.75941053e+04   5.24288000e+04]\n"
     ]
    },
    {
     "data": {
      "text/plain": [
       "array([  2.00000000e+00,   2.00000000e+00,   2.66666667e+00,\n",
       "         4.00000000e+00,   6.40000000e+00,   1.06666667e+01,\n",
       "         1.82857143e+01,   3.20000000e+01,   5.68888889e+01,\n",
       "         1.02400000e+02,   1.86181818e+02,   3.41333333e+02,\n",
       "         6.30153846e+02,   1.17028571e+03,   2.18453333e+03,\n",
       "         4.09600000e+03,   7.71011765e+03,   1.45635556e+04,\n",
       "         2.75941053e+04,   5.24288000e+04])"
      ]
     },
     "execution_count": 4,
     "metadata": {},
     "output_type": "execute_result"
    }
   ],
   "source": [
    "# СДЕЛАНО\n",
    "\n",
    "import numpy as np\n",
    "\n",
    "a = np.ones(20) * 2\n",
    "b = np.arange(1,21)\n",
    "a = a ** b\n",
    "c = a/b\n",
    "print(c)\n",
    "\n",
    "# или\n",
    "a = np.arange(1, 21)\n",
    "a = (lambda x: (2 ** x)/x)(a)\n",
    "a"
   ]
  },
  {
   "cell_type": "markdown",
   "metadata": {},
   "source": [
    "**2.** Посчитать:\n",
    "\n",
    "$$\\sum\\limits_{i=0}^{5}{0.1^{3i}0.2^{4i}}$$\n"
   ]
  },
  {
   "cell_type": "code",
   "execution_count": 10,
   "metadata": {
    "collapsed": false
   },
   "outputs": [
    {
     "name": "stdout",
     "output_type": "stream",
     "text": [
      "1.0000016\n"
     ]
    }
   ],
   "source": [
    "# СДЕЛАНО\n",
    "\n",
    "## your code\n",
    "a = np.ones(5)\n",
    "a = 0.1 ** np.arange(0,3*6,3)\n",
    "b = 0.2 ** np.arange(0,4*6,4)\n",
    "c = a * b\n",
    "d = c.sum()\n",
    "\n",
    "print(d)"
   ]
  },
  {
   "cell_type": "markdown",
   "metadata": {},
   "source": [
    "**3.** Создать нулевую матрицe $8 \\times 8$, и заполнить её единицами в шахматном порядке."
   ]
  },
  {
   "cell_type": "code",
   "execution_count": 54,
   "metadata": {
    "collapsed": false
   },
   "outputs": [
    {
     "data": {
      "text/plain": [
       "array([[0, 1, 0, 1, 0, 1, 0, 1],\n",
       "       [1, 0, 1, 0, 1, 0, 1, 0],\n",
       "       [0, 1, 0, 1, 0, 1, 0, 1],\n",
       "       [1, 0, 1, 0, 1, 0, 1, 0],\n",
       "       [0, 1, 0, 1, 0, 1, 0, 1],\n",
       "       [1, 0, 1, 0, 1, 0, 1, 0],\n",
       "       [0, 1, 0, 1, 0, 1, 0, 1],\n",
       "       [1, 0, 1, 0, 1, 0, 1, 0]])"
      ]
     },
     "execution_count": 54,
     "metadata": {},
     "output_type": "execute_result"
    }
   ],
   "source": [
    "# СДЕЛАНО\n",
    "\n",
    "chess = np.zeros((8,8), dtype=int)\n",
    "chess[0:8:2,1:8:2] = 1\n",
    "chess[1:8:2,0:8:2] = 1\n",
    "chess"
   ]
  },
  {
   "cell_type": "markdown",
   "metadata": {},
   "source": [
    "**4.** Есть 5 точек в декартовой системе координат (в виде матрицы $X$ размерностью $5 \\times 2$), сконвертируйте эти точки в полярную систему координат."
   ]
  },
  {
   "cell_type": "code",
   "execution_count": 47,
   "metadata": {
    "collapsed": false
   },
   "outputs": [
    {
     "name": "stdout",
     "output_type": "stream",
     "text": [
      "[ 0.80038744  0.61165991  0.75173993  0.73571326  1.35947084]\n",
      "[ 1.37791146  0.25511976  0.9879788   1.31671373  0.76282219]\n"
     ]
    }
   ],
   "source": [
    "# СДЕЛАНО\n",
    "\n",
    "X = np.random.random((5, 2))\n",
    "x = X[:,0]\n",
    "y = X[:,1]\n",
    "r = np.hypot(x,y) #sqrt(x*x + y*y).\n",
    "fi = np.arctan2(y,x) \n",
    "print(r)\n",
    "print(fi)"
   ]
  },
  {
   "cell_type": "markdown",
   "metadata": {},
   "source": [
    "**5.** Найдите индексы максимального элемента в случайной матрице $10 \\times 10$.\n",
    "\n",
    "Cм. [np.argmax()](http://docs.scipy.org/doc/numpy/reference/generated/numpy.argmax.html)."
   ]
  },
  {
   "cell_type": "code",
   "execution_count": 103,
   "metadata": {
    "collapsed": false
   },
   "outputs": [
    {
     "name": "stdout",
     "output_type": "stream",
     "text": [
      "Индекс максимального = 4\n",
      "[[ 0.15011215  0.58732792  0.32311853  0.50398346  0.99366411  0.00204453\n",
      "   0.79996788  0.92829556  0.42989198  0.48977167]\n",
      " [ 0.42555671  0.92787772  0.75353262  0.41759432  0.83531811  0.32406788\n",
      "   0.62356063  0.77531228  0.00997388  0.11945281]\n",
      " [ 0.9399397   0.08267801  0.47161176  0.86447168  0.38789798  0.57559611\n",
      "   0.62527121  0.75066381  0.21689839  0.06872964]\n",
      " [ 0.38891807  0.34245577  0.06481175  0.8151441   0.30401107  0.44234608\n",
      "   0.37551001  0.61686052  0.62585309  0.57053223]\n",
      " [ 0.67214656  0.93657675  0.26377353  0.54949673  0.63329671  0.70258498\n",
      "   0.25427691  0.49205421  0.52616842  0.84715146]\n",
      " [ 0.93846085  0.15556061  0.27388366  0.42533276  0.23170729  0.92367978\n",
      "   0.57295383  0.21647523  0.21651117  0.68340052]\n",
      " [ 0.16632621  0.04379362  0.10050406  0.58603576  0.77927272  0.35461499\n",
      "   0.53753973  0.65048788  0.30306261  0.51782917]\n",
      " [ 0.22964612  0.77476553  0.08912523  0.62660975  0.03501856  0.96078365\n",
      "   0.94536621  0.67139606  0.81089332  0.01105894]\n",
      " [ 0.55720628  0.3339621   0.04420014  0.97444642  0.9515066   0.30332898\n",
      "   0.52464949  0.17917554  0.33980745  0.04068961]\n",
      " [ 0.82071939  0.90329537  0.90222717  0.76986176  0.45665464  0.5793609\n",
      "   0.97570685  0.82071593  0.96508013  0.37806282]]\n",
      "[0, 4]\n"
     ]
    }
   ],
   "source": [
    "## your code\n",
    "X = np.random.random((10, 10))\n",
    "result = np.argmax(X)\n",
    "print('Индекс максимального =',result)\n",
    "print(X)\n",
    "result = [result // 10, result % 10]\n",
    "print(result)\n"
   ]
  },
  {
   "cell_type": "markdown",
   "metadata": {},
   "source": [
    "**6.** Есть 10 точек ($X$) и ещё одна ($y$). Найти в $X$ ближайшую к $y$ точку."
   ]
  },
  {
   "cell_type": "code",
   "execution_count": 65,
   "metadata": {
    "collapsed": false
   },
   "outputs": [
    {
     "name": "stdout",
     "output_type": "stream",
     "text": [
      "Расстояния =\n",
      "[[ 0.34645324]\n",
      " [ 0.19970179]\n",
      " [ 0.41897913]\n",
      " [ 0.84932609]\n",
      " [ 0.81039621]\n",
      " [ 0.42251309]\n",
      " [ 0.73396052]\n",
      " [ 0.86608232]\n",
      " [ 0.71637835]\n",
      " [ 0.3307545 ]]\n",
      "Ближайщая точка = 1\n",
      "Кратчайшее растояние = 0.199701788605\n",
      "\n",
      "Расстояния = [ 0.34645324  0.19970179  0.41897913  0.84932609  0.81039621  0.42251309\n",
      "  0.73396052  0.86608232  0.71637835  0.3307545 ]\n",
      "Кратчайшее растояние = 0.199701788605\n"
     ]
    }
   ],
   "source": [
    "# СДЕЛАНО\n",
    "\n",
    "import scipy.spatial\n",
    "\n",
    "X = np.random.random((10, 2))\n",
    "y = np.random.random((1, 2))\n",
    "\n",
    "## your code\n",
    "\n",
    "D = scipy.spatial.distance.cdist(X,y) # найти расстояние от каждой точки до каждой \n",
    "index = D.argmin()\n",
    "print('Расстояния =')\n",
    "print(D)\n",
    "print('Ближайщая точка =',index)\n",
    "print('Кратчайшее растояние =', D.min())\n",
    "\n",
    "# или\n",
    "dist = (lambda x1, x2, y1, y2: np.sqrt((x2-x1) ** 2 + (y2 - y1) ** 2))(X.copy()[::, 0], y[0, 0], X.copy()[::, 1], y[0, 1])\n",
    "print('\\nРасстояния =',dist)\n",
    "result = dist.min()\n",
    "print('Кратчайшее растояние =',result)"
   ]
  },
  {
   "cell_type": "markdown",
   "metadata": {},
   "source": [
    "**7.** Дана функция:\n",
    "\n",
    "$$\n",
    " \\begin{cases}\n",
    "    x^2 + 2x + 6, & x < 0  \\\\\n",
    "    x + 6, & 0 \\le x \\le 2 \\\\\n",
    "    x^2 + 4x - 4, & x \\ge 2\n",
    " \\end{cases}\n",
    "$$\n",
    "\n",
    "Постройте массив из её значений на  $-3 \\le x \\le 3$."
   ]
  },
  {
   "cell_type": "code",
   "execution_count": 108,
   "metadata": {
    "collapsed": false
   },
   "outputs": [
    {
     "name": "stdout",
     "output_type": "stream",
     "text": [
      "[ 9  6  5  6  7  8 17]\n"
     ]
    }
   ],
   "source": [
    "# СДЕЛАНО \n",
    "\n",
    "## your code\n",
    "@np.vectorize\n",
    "def func(x):\n",
    "    if x < 0: return x**2 + 2*x + 6\n",
    "    if 0 <= x <= 2: return x + 6\n",
    "    if x > 2: return x**2 + 4*x - 4\n",
    "    \n",
    "a = np.arange(-3,4)\n",
    "b = func(a)\n",
    "print(b)"
   ]
  },
  {
   "cell_type": "markdown",
   "metadata": {},
   "source": [
    "**8.** Из каждого элемента матрицы вычесть среднее арифметическое от всех элементов в соответствующей строке (после чего среднее значение каждой строки должно равняться нулю).\n",
    "\n",
    "Cм. [np.mean()](http://docs.scipy.org/doc/numpy/reference/generated/numpy.mean.html)."
   ]
  },
  {
   "cell_type": "code",
   "execution_count": 240,
   "metadata": {
    "collapsed": false
   },
   "outputs": [
    {
     "name": "stdout",
     "output_type": "stream",
     "text": [
      "[[-0.2907975  -0.0494847   0.40066922  0.30481374 -0.22977786 -0.37029621\n",
      "   0.11282535 -0.36311457 -0.06963705  0.55479958]\n",
      " [ 0.2320884   0.33513624  0.17213084 -0.34010206  0.02717534  0.28547049\n",
      "  -0.34327598 -0.12863037  0.30588792 -0.54588083]\n",
      " [-0.11067936 -0.14601814  0.16003905 -0.0675522   0.32554983  0.00717053\n",
      "  -0.45770778 -0.33985444  0.2277242   0.4013283 ]\n",
      " [ 0.24564412  0.01005749 -0.35068412  0.27565578  0.42708369 -0.33871089\n",
      "   0.3795025  -0.21933514 -0.14063815 -0.28857527]\n",
      " [-0.16626774  0.32634274 -0.26205267  0.38340774 -0.10892081  0.41034959\n",
      "  -0.01930125  0.21878734 -0.357111   -0.42523393]\n",
      " [ 0.133733    0.44827792  0.46121618 -0.47181891 -0.30409514 -0.13679722\n",
      "  -0.32182448  0.45925451 -0.1810114  -0.08693447]\n",
      " [-0.25706802  0.14734417 -0.25226111  0.40340188  0.10297832  0.09791066\n",
      "  -0.11989083  0.38371944 -0.13175666 -0.37437785]\n",
      " [-0.02995907 -0.39020158 -0.12704676  0.11579842  0.18901818 -0.34584273\n",
      "  -0.05269559 -0.14604022  0.33994952  0.44701982]\n",
      " [ 0.36633784 -0.37409348  0.49178875  0.06723192 -0.00097042 -0.20069544\n",
      "   0.54620781 -0.19529751 -0.34868537 -0.3518241 ]\n",
      " [ 0.13664779 -0.19323414  0.18477051 -0.04563217 -0.06610547  0.48181948\n",
      "  -0.43483374  0.3333159  -0.28579892 -0.11094927]]\n",
      "[[  2.22044605e-17]\n",
      " [ -2.22044605e-17]\n",
      " [ -1.11022302e-17]\n",
      " [ -1.11022302e-17]\n",
      " [  2.22044605e-17]\n",
      " [ -1.22124533e-16]\n",
      " [  6.66133815e-17]\n",
      " [  2.22044605e-17]\n",
      " [  2.22044605e-17]\n",
      " [ -2.22044605e-17]]\n"
     ]
    }
   ],
   "source": [
    "# СДЕЛАНО\n",
    "\n",
    "X = np.random.random((10, 10))\n",
    "\n",
    "\n",
    "## your code\n",
    "result = X - X.mean(axis=1, keepdims=True)\n",
    "print(result - result.mean(axis=1, keepdims=True))\n",
    "print(result.mean(axis=1, keepdims=True)) #примерно = 0\n"
   ]
  },
  {
   "cell_type": "markdown",
   "metadata": {},
   "source": [
    "\n",
    "**9.** Есть массив из 1000 чисел, полученных из генератора случайных чисел, имеющий нормальное распределение. Посчитайте выборочное среднее и выборочную дисперсию. "
   ]
  },
  {
   "cell_type": "code",
   "execution_count": 140,
   "metadata": {
    "collapsed": false
   },
   "outputs": [
    {
     "name": "stdout",
     "output_type": "stream",
     "text": [
      "mean = 5.10113270904 dispersion= 3.93242716885\n"
     ]
    }
   ],
   "source": [
    "# СДЕЛАНО\n",
    "\n",
    "X = np.random.normal(loc=5, scale=2., size=1000)\n",
    "print('mean =',X.mean(),'dispersion=',((X - X.mean())**2).mean())\n"
   ]
  },
  {
   "cell_type": "markdown",
   "metadata": {},
   "source": [
    "**10.** Создать матрицу:\n",
    "\n",
    "$$\n",
    "\\begin{pmatrix}\n",
    "0 & 1 & 2 & 3 & 4 \\\\\n",
    "1 & 2 & 3 & 4 & 0 \\\\\n",
    "2 & 3 & 4 & 0 & 1 \\\\\n",
    "3 & 4 & 0 & 1 & 2 \\\\\n",
    "4 & 0 & 1 & 2 & 3\n",
    "\\end{pmatrix}\n",
    "$$"
   ]
  },
  {
   "cell_type": "code",
   "execution_count": 161,
   "metadata": {
    "collapsed": false
   },
   "outputs": [
    {
     "name": "stdout",
     "output_type": "stream",
     "text": [
      "a = [0 1 2 3 4 1 2 3 4 0 2 3 4 0 1 3 4 0 1 2 4 0 1 2 3]\n",
      "b =\n",
      "[[0 1 2 3 4]\n",
      " [1 2 3 4 0]\n",
      " [2 3 4 0 1]\n",
      " [3 4 0 1 2]\n",
      " [4 0 1 2 3]]\n"
     ]
    }
   ],
   "source": [
    "# СДЕЛАНО\n",
    "\n",
    "## your code\n",
    "a = np.concatenate((np.arange(0,5),np.arange(1,5),[0],np.arange(2,5),np.arange(0,2),np.arange(3,5),np.arange(0,3),[4],np.arange(0,4)), axis=0)\n",
    "b = a.reshape((5,5))\n",
    "print('a =', a)\n",
    "print('b =')\n",
    "print(b)"
   ]
  }
 ],
 "metadata": {
  "kernelspec": {
   "display_name": "Python 3",
   "language": "python",
   "name": "python3"
  },
  "language_info": {
   "codemirror_mode": {
    "name": "ipython",
    "version": 3
   },
   "file_extension": ".py",
   "mimetype": "text/x-python",
   "name": "python",
   "nbconvert_exporter": "python",
   "pygments_lexer": "ipython3",
   "version": "3.6.0"
  }
 },
 "nbformat": 4,
 "nbformat_minor": 1
}
