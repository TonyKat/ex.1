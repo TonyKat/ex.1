{
 "cells": [
  {
   "cell_type": "markdown",
   "metadata": {},
   "source": [
    "# Задание 1\n",
    "\n",
    "[Свертка списка](https://ru.wikipedia.org/wiki/%D0%A1%D0%B2%D1%91%D1%80%D1%82%D0%BA%D0%B0_%D1%81%D0%BF%D0%B8%D1%81%D0%BA%D0%B0) -  это обобщенная операция над списком, c помощью которой можно преобразовать список в единое значение. Например рассмотрим реализации свертки слева и свертки справа (левоассоциативную свертку и правоассоциативную свертку):"
   ]
  },
  {
   "cell_type": "code",
   "execution_count": 2,
   "metadata": {
    "collapsed": true
   },
   "outputs": [],
   "source": [
    "def foldl(f, x0, lst):\n",
    "    if not lst:\n",
    "        return x0\n",
    "    return foldl(f, f(x0, lst[0]), lst[1:])\n",
    "\n",
    "def foldr(f, x0, lst):\n",
    "    if not lst:\n",
    "        return x0\n",
    "    return f(lst[0], foldr(f, x0, lst[1:]))"
   ]
  },
  {
   "cell_type": "code",
   "execution_count": 3,
   "metadata": {
    "collapsed": false
   },
   "outputs": [
    {
     "data": {
      "text/plain": [
       "6"
      ]
     },
     "execution_count": 3,
     "metadata": {},
     "output_type": "execute_result"
    }
   ],
   "source": [
    "#сумма\n",
    "foldl(lambda x, y: x + y, 0, [1, 2, 3])"
   ]
  },
  {
   "cell_type": "code",
   "execution_count": 4,
   "metadata": {
    "collapsed": false
   },
   "outputs": [
    {
     "data": {
      "text/plain": [
       "'123'"
      ]
     },
     "execution_count": 4,
     "metadata": {},
     "output_type": "execute_result"
    }
   ],
   "source": [
    "#конкатенация\n",
    "foldl(lambda x, y: '{}{}'.format(x, y), '', [1, 2, 3])"
   ]
  },
  {
   "cell_type": "code",
   "execution_count": 5,
   "metadata": {
    "collapsed": false
   },
   "outputs": [
    {
     "data": {
      "text/plain": [
       "(0.16666666666666666, 1.5)"
      ]
     },
     "execution_count": 5,
     "metadata": {},
     "output_type": "execute_result"
    }
   ],
   "source": [
    "f = lambda x, y: x / y\n",
    "foldl(f, 1, [1, 2, 3]), \\\n",
    "foldr(f, 1, [1, 2, 3])"
   ]
  },
  {
   "cell_type": "markdown",
   "metadata": {},
   "source": [
    "Задача: реализовать foldl через foldr и наоборот. Вместо многоточий нужно вставить выражения, которые бы привели к нужному результату."
   ]
  },
  {
   "cell_type": "code",
   "execution_count": 6,
   "metadata": {
    "collapsed": true
   },
   "outputs": [],
   "source": [
    "def foldl2(f, x0, lst):\n",
    "    return foldr(..., ..., lst)(...)"
   ]
  },
  {
   "cell_type": "code",
   "execution_count": 7,
   "metadata": {
    "collapsed": true
   },
   "outputs": [],
   "source": [
    "def foldr2(f, x0, lst):\n",
    "    return foldl(..., ..., lst)(...)"
   ]
  },
  {
   "cell_type": "markdown",
   "metadata": {},
   "source": [
    "# Задание 2\n",
    "\n",
    "нужно написать функцию, которая принимает две строки и проверяет, входит ли хотя бы одна перестановка второй строки в первую. Например:\n",
    "\n",
    "> a = 'abcrotm'\n",
    "> \n",
    "> b = 'tro'\n",
    "\n",
    "функция def check_inv(a, b) вернет True, так как 'rot' содержится в 'abcrotm'. Нужно подумать как можно более оптимальный алгоритм и оценить его сложность. "
   ]
  },
  {
   "cell_type": "code",
   "execution_count": 18,
   "metadata": {
    "collapsed": false
   },
   "outputs": [
    {
     "name": "stdout",
     "output_type": "stream",
     "text": [
      "True\n",
      "True\n",
      "True\n"
     ]
    }
   ],
   "source": [
    "def check_inv(a, b):\n",
    "    bdict = {}\n",
    "    for i in b:\n",
    "        if bdict.get(i) is not None:\n",
    "            bdict[i] += 1\n",
    "        else:\n",
    "            bdict[i] = 1\n",
    "    bdictbuf = bdict.copy()\n",
    "    for i in range(len(a)):\n",
    "        if a[i] in b and bdictbuf[a[i]] != 0:\n",
    "            bdictbuf[a[i]] += -1\n",
    "            for j in range(i + 1, len(a)):\n",
    "                if all(k == 0 for k in list(bdictbuf.values())):\n",
    "                    return True\n",
    "                elif a[j] in b and bdictbuf[a[j]] != 0:\n",
    "                    bdictbuf[a[j]] += -1\n",
    "                else:\n",
    "                    bdictbuf= bdict.copy()\n",
    "                    break\n",
    "    if all(k == 0 for k in list(bdictbuf.values())):\n",
    "        return True\n",
    "    else:\n",
    "        return False\n",
    "    \n",
    "a = 'mergevenfa'\n",
    "b = 'eev'\n",
    "print(check_inv(a,b))\n",
    "print(check_inv('abcrotm', 'tro'))\n",
    "print(check_inv('caaab', 'baa'))"
   ]
  },
  {
   "cell_type": "markdown",
   "metadata": {},
   "source": [
    "# Задание 3\n",
    "\n",
    "Реализовать бинарное дерево (класс Tree), в нём методы __repr__, __str__, __iter__ (итерация только по листьям)."
   ]
  },
  {
   "cell_type": "code",
   "execution_count": 17,
   "metadata": {
    "collapsed": false
   },
   "outputs": [
    {
     "name": "stdout",
     "output_type": "stream",
     "text": [
      "True\n",
      "Tree(0, Tree(1, Tree(3), Tree(4)), Tree(2))\n",
      "Tree(0, Tree(1, Tree(3, None, None), Tree(4, None, None)), Tree(2, None, None))\n"
     ]
    }
   ],
   "source": [
    "class Tree:\n",
    "    def __init__(self, value=None, left=None, right=None):\n",
    "        self.left = left\n",
    "        self.right = right\n",
    "        self.value = value\n",
    "        \n",
    "    def __iter__(self):\n",
    "        if self.left:\n",
    "            for item in self.left:\n",
    "                yield item\n",
    "        if self.right:\n",
    "            for item in self.right:\n",
    "                yield item\n",
    "        if self.left is None and self.right is None:\n",
    "            yield self.value\n",
    "    \n",
    "    def __str__(self):\n",
    "        s = self\n",
    "        if s.left == None and s.right == None:\n",
    "            return 'Tree(' + str(s.value) + ')'\n",
    "        else:\n",
    "            return 'Tree({}, {}, {})'.format(s.value, str(s.left), str(s.right))\n",
    "     \n",
    "    def __repr__(self):\n",
    "        return 'Tree({}, {}, {})'.format(self.value, repr(self.left), repr(self.right))\n",
    "        \n",
    "    \n",
    "    \n",
    "tree = Tree(0, Tree(1, Tree(3), Tree(4)),                             \n",
    "               Tree(2))\n",
    "\n",
    "print(list(tree) == [3, 4, 2])\n",
    "print(tree.__str__())\n",
    "print(tree.__repr__())"
   ]
  },
  {
   "cell_type": "markdown",
   "metadata": {
    "collapsed": true
   },
   "source": [
    "# Задание 4\n",
    "\n",
    "Реализовать простейший калькулятор математических выражений:\n",
    "- только целые числа\n",
    "- **+**, **\\-**, **\\***, **\\**\n",
    "- скобки\n",
    "\n",
    "**Можно использовать регулярные выражения**"
   ]
  },
  {
   "cell_type": "code",
   "execution_count": 16,
   "metadata": {
    "collapsed": false
   },
   "outputs": [
    {
     "name": "stdout",
     "output_type": "stream",
     "text": [
      "True\n",
      "True\n",
      "True\n",
      "True\n",
      "True\n"
     ]
    }
   ],
   "source": [
    "def _RPN(example):\n",
    "    example = example.replace('(', ' ( ').replace(')', ' ) ')\n",
    "    example = example.replace('+', ' + ').replace('-', ' - ')\n",
    "    example = example.replace('/', ' / ').replace('*', ' * ')\n",
    "    queue = example.split()\n",
    "    result = list()\n",
    "    stack = list()\n",
    "    for symbol in queue:\n",
    "        if symbol.isdigit():\n",
    "            result.append(symbol)\n",
    "        elif symbol == '+' or symbol == '-':\n",
    "            if stack and (stack[-1] == '+' or stack[-1] == '-' or stack[-1] == '*' or stack[-1] == '/'):\n",
    "                result.append(stack.pop())\n",
    "            stack.append(symbol)\n",
    "        elif symbol == '*' or symbol == '/':\n",
    "            if stack and (stack[-1] == '*' or stack[-1] == '/'):\n",
    "                result.append(stack.pop())\n",
    "            stack.append(symbol)                \n",
    "        elif symbol == '(':\n",
    "            stack.append(symbol)\n",
    "        elif symbol == ')':\n",
    "            while stack[-1] != '(':\n",
    "                result.append(stack.pop())\n",
    "            stack.pop()\n",
    "    while stack:\n",
    "        result.append(stack.pop())\n",
    "    return result\n",
    "                \n",
    "        \n",
    "def calc(expression):\n",
    "    mas_rpn = _RPN(expression)\n",
    "    i = 0\n",
    "    while len(mas_rpn) > 1:\n",
    "        if mas_rpn[i].isdigit():\n",
    "            i += 1\n",
    "        else:\n",
    "            if mas_rpn[i] == '+':\n",
    "                mas_rpn[i-2] = int(mas_rpn[i-2]) + int(mas_rpn[i-1])\n",
    "            if mas_rpn[i] == '-':\n",
    "                mas_rpn[i-2] = int(mas_rpn[i-2]) - int(mas_rpn[i-1])\n",
    "            if mas_rpn[i] == '*':\n",
    "                mas_rpn[i-2] = int(mas_rpn[i-2]) * int(mas_rpn[i-1])\n",
    "            if mas_rpn[i] == '/':\n",
    "                mas_rpn[i-2] = int(mas_rpn[i-2]) / int(mas_rpn[i-1])            \n",
    "            del mas_rpn[i-1], mas_rpn[i-1]\n",
    "            i += -1\n",
    "    return mas_rpn[0]\n",
    "\n",
    "print(calc('2 * (15 - 3 * 4) - 2') == 4)\n",
    "print(calc('4 * 5 - (2 + 3)') == 15)\n",
    "print(calc('(3 * 2) / 3') == 2)\n",
    "print(calc('12 + 20 / 5') == 16)\n",
    "print(calc('(4 + 9 - 6) / (3 + 2 * 2) + 4') == 5)"
   ]
  },
  {
   "cell_type": "code",
   "execution_count": null,
   "metadata": {
    "collapsed": true
   },
   "outputs": [],
   "source": []
  }
 ],
 "metadata": {
  "kernelspec": {
   "display_name": "Python 3",
   "language": "python",
   "name": "python3"
  },
  "language_info": {
   "codemirror_mode": {
    "name": "ipython",
    "version": 3
   },
   "file_extension": ".py",
   "mimetype": "text/x-python",
   "name": "python",
   "nbconvert_exporter": "python",
   "pygments_lexer": "ipython3",
   "version": "3.6.0"
  }
 },
 "nbformat": 4,
 "nbformat_minor": 1
}
